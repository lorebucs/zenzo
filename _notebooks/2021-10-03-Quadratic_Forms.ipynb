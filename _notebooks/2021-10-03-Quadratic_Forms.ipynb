{
 "cells": [
  {
   "cell_type": "markdown",
   "source": [
    "# Quadratic forms\n",
    "\n",
    "A *quadratic form* is a polynomial in $n$ variables with all terms of degree two. Therefore, a quadratic form is a mapping $q:\\mathbb{R}^n \\rightarrow \\mathbb{R}$. The term \"form\" is another name for \"homogeneous polynomial\", which is a polynomial whose all nonzero terms have the same degree. \n",
    "\n",
    "Here are some examples of quadratic forms in one, two and three variables.\n",
    "\n",
    "<br>\n",
    "\n",
    "$$ q(x) = a x^2 $$\n",
    "\n",
    "<br>\n",
    "\n",
    "$$\n",
    "\\begin{split}\n",
    "q(x,y) &= a x^2 + 2b xy + c y^2 \\\\\n",
    "       &= x(ax + by) + y(bx + cy)              \n",
    "\\end{split}\n",
    "$$\n",
    "\n",
    "<br>\n",
    "\n",
    "$$\n",
    "\\begin{split}\n",
    "q(x,y,z) &= a x^2 + d y^2 + f z^2  + 2b xy + 2c xz + 2e yz \\\\\n",
    "         &= x(ax + by + cz) + y (bx + dy + ez) + z (cx + ey + fz)         \n",
    "\\end{split}\n",
    "$$\n",
    "\n",
    "<br>\n",
    "\n",
    "\n",
    "As the number of variables increases, more and more terms arise in the polynomial. Linear algebra allows to express quadratic forms with a more compact notation which is invariant from the number of variables.\n",
    "\n",
    "The examples above can then be expressed as follows.\n",
    "\n",
    "<br>\n",
    "\n",
    "$$ q(x) = \n",
    "\\begin{bmatrix}\n",
    "x\n",
    "\\end{bmatrix}\n",
    "\\begin{bmatrix}\n",
    "a\n",
    "\\end{bmatrix}\n",
    "\\begin{bmatrix}\n",
    "x\n",
    "\\end{bmatrix}\n",
    "= \\boldsymbol{x}^\\intercal A \\boldsymbol{x}\n",
    "$$\n",
    "\n",
    "<br>\n",
    "\n",
    "$$ \n",
    "q(x,y) = \n",
    "\\begin{bmatrix}\n",
    "x & y\n",
    "\\end{bmatrix}\n",
    "\\begin{bmatrix}\n",
    "a & b \\\\\n",
    "b & c\n",
    "\\end{bmatrix}\n",
    "\\begin{bmatrix}\n",
    "x \\\\\n",
    "y\n",
    "\\end{bmatrix}\n",
    "= \\boldsymbol{x}^\\intercal A \\boldsymbol{x}\n",
    "$$ \n",
    "\n",
    "<br>\n",
    "\n",
    "$$ \n",
    "q(x,y,z) =\n",
    "\\begin{bmatrix}\n",
    "x & y & z\n",
    "\\end{bmatrix}\n",
    "\\begin{bmatrix}\n",
    "a & b & c \\\\\n",
    "b & d & e \\\\\n",
    "c & e & f\n",
    "\\end{bmatrix}\n",
    "\\begin{bmatrix}\n",
    "x \\\\\n",
    "y \\\\\n",
    "z\n",
    "\\end{bmatrix}\n",
    "= \\boldsymbol{x}^\\intercal A \\boldsymbol{x}\n",
    "$$ \n",
    "\n",
    "<br>\n",
    "\n",
    "Notice that the matrices $A$s are all symmetric.\n",
    "\n",
    "Let's verify the correctness of the vectorized expressions above using the *sympy* module.\n"
   ],
   "metadata": {}
  },
  {
   "cell_type": "code",
   "execution_count": 1,
   "source": [
    "from sympy import *\n",
    "x, y, z = symbols('x y z')\n",
    "a, b, c, d, e, f = symbols('a b c d e f')"
   ],
   "outputs": [],
   "metadata": {}
  },
  {
   "cell_type": "markdown",
   "source": [
    "### q(x,y)"
   ],
   "metadata": {}
  },
  {
   "cell_type": "code",
   "execution_count": 2,
   "source": [
    "x_2d = Matrix([x, y])\n",
    "A_2x2 = Matrix([[a, b], [b, c]])\n",
    "\n",
    "x_2d.T * A_2x2 * x_2d"
   ],
   "outputs": [
    {
     "output_type": "execute_result",
     "data": {
      "text/latex": [
       "$\\displaystyle \\left[\\begin{matrix}x \\left(a x + b y\\right) + y \\left(b x + c y\\right)\\end{matrix}\\right]$"
      ],
      "text/plain": [
       "Matrix([[x*(a*x + b*y) + y*(b*x + c*y)]])"
      ]
     },
     "metadata": {},
     "execution_count": 2
    }
   ],
   "metadata": {
    "scrolled": true
   }
  },
  {
   "cell_type": "markdown",
   "source": [
    "### q(x,y,z)"
   ],
   "metadata": {}
  },
  {
   "cell_type": "code",
   "execution_count": 3,
   "source": [
    "x_3d = Matrix([x, y, z])\n",
    "A_3x3 = Matrix([[a, b, c], [b, d, e], [c, e, f]])\n",
    "\n",
    "x_3d.T * A_3x3 * x_3d"
   ],
   "outputs": [
    {
     "output_type": "execute_result",
     "data": {
      "text/latex": [
       "$\\displaystyle \\left[\\begin{matrix}x \\left(a x + b y + c z\\right) + y \\left(b x + d y + e z\\right) + z \\left(c x + e y + f z\\right)\\end{matrix}\\right]$"
      ],
      "text/plain": [
       "Matrix([[x*(a*x + b*y + c*z) + y*(b*x + d*y + e*z) + z*(c*x + e*y + f*z)]])"
      ]
     },
     "metadata": {},
     "execution_count": 3
    }
   ],
   "metadata": {}
  },
  {
   "cell_type": "markdown",
   "source": [
    "In the general case of an arbitrary number of variables $n$, the quadratic form can still be written using the same compact notation.\n",
    "\n",
    "<br>\n",
    "\n",
    "\\begin{equation}\n",
    "\\begin{split}\n",
    "q(x_1,\\dots,x_n) &= &\\, x_{1} (a_{11} {x_1} + \\, &\\dots + a_{1n} {x_n}) \\, + \\\\\n",
    "                 &  &\\, x_{2} (a_{21} {x_1} + \\, &\\dots + a_{2n} {x_n}) \\, + \\\\  \n",
    "                 &  &                         &\\,\\, \\vdots \\\\\n",
    "                 &  &\\, x_{n} (a_{n1} {x_1} + \\, &\\dots + a_{nn} {x_n}) \\\\\n",
    "                 &= &\\, \\boldsymbol{x}^\\intercal A \\boldsymbol{x} &\n",
    "\\end{split}\n",
    "\\end{equation}\n",
    "\n",
    "<br>\n",
    "\n",
    "Where\n",
    "\n",
    "\\begin{equation}\n",
    "A =\n",
    "\\begin{split}\n",
    "\\begin{bmatrix} \n",
    "    a_{11} & \\dots  & a_{1n} \\\\\n",
    "    \\vdots & \\ddots & \\vdots \\\\\n",
    "    a_{n1} & \\dots  & a_{nn} \n",
    "    \\end{bmatrix}\n",
    "\\end{split}\n",
    "\\end{equation}\n",
    "\n",
    "<br>\n",
    "\n",
    "and\n",
    "\n",
    "<br>\n",
    "\n",
    "\\begin{equation}\n",
    "\\boldsymbol{x} =\n",
    "\\begin{split}\n",
    "\\begin{bmatrix} \n",
    "    x_1  \\\\\n",
    "    \\vdots \\\\\n",
    "    x_n\n",
    "    \\end{bmatrix}\n",
    "\\end{split}\n",
    "\\end{equation}\n",
    "\n",
    "<br>\n"
   ],
   "metadata": {}
  },
  {
   "cell_type": "code",
   "execution_count": null,
   "source": [],
   "outputs": [],
   "metadata": {}
  }
 ],
 "metadata": {
  "kernelspec": {
   "display_name": "Python 3",
   "language": "python",
   "name": "python3"
  },
  "language_info": {
   "codemirror_mode": {
    "name": "ipython",
    "version": 3
   },
   "file_extension": ".py",
   "mimetype": "text/x-python",
   "name": "python",
   "nbconvert_exporter": "python",
   "pygments_lexer": "ipython3",
   "version": "3.8.5"
  }
 },
 "nbformat": 4,
 "nbformat_minor": 4
}